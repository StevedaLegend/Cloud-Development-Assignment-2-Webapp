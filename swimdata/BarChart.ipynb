{
 "cells": [
  {
   "cell_type": "code",
   "execution_count": 31,
   "metadata": {},
   "outputs": [
    {
     "data": {
      "text/plain": [
       "('Chris',\n",
       " '17',\n",
       " '100m',\n",
       " 'Breast',\n",
       " ['1:28.86', '1:29.90', '1:28.12', '1:28.67'],\n",
       " [8886, 8990, 8812, 8867],\n",
       " '1:28.89')"
      ]
     },
     "execution_count": 31,
     "metadata": {},
     "output_type": "execute_result"
    }
   ],
   "source": [
    "import swim_utils\n",
    "\n",
    "filename = \"Chris-17-100m-Breast.txt\"\n",
    "data = swim_utils.get_swimmers_data(filename)\n",
    "data"
   ]
  },
  {
   "cell_type": "code",
   "execution_count": 32,
   "metadata": {},
   "outputs": [],
   "source": [
    "import hfpy_utils"
   ]
  },
  {
   "cell_type": "code",
   "execution_count": 33,
   "metadata": {},
   "outputs": [
    {
     "name": "stdout",
     "output_type": "stream",
     "text": [
      "Help on function convert2range in module hfpy_utils:\n",
      "\n",
      "convert2range(v, f_min, f_max, t_min, t_max)\n",
      "    Given a value (v) in the range f_min-f_max, convert the value\n",
      "    to its equivalent value in the range t_min-t_max.\n",
      "    \n",
      "    Based on the technique described here:\n",
      "        http://james-ramsden.com/map-a-value-from-one-number-scale-to-another-formula-and-c-code/\n",
      "\n"
     ]
    }
   ],
   "source": [
    "help(hfpy_utils.convert2range)"
   ]
  },
  {
   "cell_type": "code",
   "execution_count": 34,
   "metadata": {},
   "outputs": [
    {
     "data": {
      "text/plain": [
       "354.4"
      ]
     },
     "execution_count": 34,
     "metadata": {},
     "output_type": "execute_result"
    }
   ],
   "source": [
    "hfpy_utils.convert2range(8107, 0, 9150, 0, 400)"
   ]
  },
  {
   "cell_type": "code",
   "execution_count": 35,
   "metadata": {},
   "outputs": [
    {
     "name": "stdout",
     "output_type": "stream",
     "text": [
      "8886 => 388.46\n",
      "8990 => 393.01\n",
      "8812 => 385.22\n",
      "8867 => 387.63\n"
     ]
    }
   ],
   "source": [
    "for n in data[-2]:\n",
    "    print(n, \"=>\", hfpy_utils.convert2range(n, 0, 9150, 0, 400))"
   ]
  },
  {
   "cell_type": "code",
   "execution_count": 36,
   "metadata": {},
   "outputs": [],
   "source": [
    "header = \"\"\"\n",
    "<!DOCTYPE html>\n",
    "<html>\n",
    "    <head>\n",
    "        <title>\n",
    "            A simple bar chart\n",
    "        </title>\n",
    "    </head>\n",
    "    <body>\n",
    "        <h3>A simple bar chart</h3>\n",
    "\"\"\""
   ]
  },
  {
   "cell_type": "code",
   "execution_count": 37,
   "metadata": {},
   "outputs": [
    {
     "data": {
      "text/plain": [
       "'\\n<!DOCTYPE html>\\n<html>\\n    <head>\\n        <title>\\n            A simple bar chart\\n        </title>\\n    </head>\\n    <body>\\n        <h3>A simple bar chart</h3>\\n'"
      ]
     },
     "execution_count": 37,
     "metadata": {},
     "output_type": "execute_result"
    }
   ],
   "source": [
    "header"
   ]
  },
  {
   "cell_type": "code",
   "execution_count": 38,
   "metadata": {},
   "outputs": [
    {
     "name": "stdout",
     "output_type": "stream",
     "text": [
      "\n",
      "<!DOCTYPE html>\n",
      "<html>\n",
      "    <head>\n",
      "        <title>\n",
      "            A simple bar chart\n",
      "        </title>\n",
      "    </head>\n",
      "    <body>\n",
      "        <h3>A simple bar chart</h3>\n",
      "\n"
     ]
    }
   ],
   "source": [
    "print(header)"
   ]
  },
  {
   "cell_type": "code",
   "execution_count": 39,
   "metadata": {},
   "outputs": [
    {
     "data": {
      "text/plain": [
       "('Chris',\n",
       " '17',\n",
       " '100m',\n",
       " 'Breast',\n",
       " ['1:28.86', '1:29.90', '1:28.12', '1:28.67'],\n",
       " [8886, 8990, 8812, 8867],\n",
       " '1:28.89')"
      ]
     },
     "execution_count": 39,
     "metadata": {},
     "output_type": "execute_result"
    }
   ],
   "source": [
    "data"
   ]
  },
  {
   "cell_type": "code",
   "execution_count": 40,
   "metadata": {},
   "outputs": [],
   "source": [
    "name, age, distance, stroke, times, values, average = data "
   ]
  },
  {
   "cell_type": "code",
   "execution_count": 41,
   "metadata": {},
   "outputs": [],
   "source": [
    "title = f\"{name}\"\n",
    "#(Under {age}) {distance} - {stroke}\""
   ]
  },
  {
   "cell_type": "code",
   "execution_count": 42,
   "metadata": {},
   "outputs": [
    {
     "data": {
      "text/plain": [
       "'Chris'"
      ]
     },
     "execution_count": 42,
     "metadata": {},
     "output_type": "execute_result"
    }
   ],
   "source": [
    "title"
   ]
  },
  {
   "cell_type": "code",
   "execution_count": 43,
   "metadata": {},
   "outputs": [],
   "source": [
    "header = f\"\"\"\n",
    "<!DOCTYPE html>\n",
    "<html>\n",
    "    <head>\n",
    "        <title>\n",
    "            {title}\n",
    "        </title>\n",
    "    </head>\n",
    "    <body>\n",
    "        <h3>{title}</h3>\n",
    "\"\"\""
   ]
  },
  {
   "cell_type": "code",
   "execution_count": 44,
   "metadata": {},
   "outputs": [
    {
     "name": "stdout",
     "output_type": "stream",
     "text": [
      "\n",
      "<!DOCTYPE html>\n",
      "<html>\n",
      "    <head>\n",
      "        <title>\n",
      "            Chris\n",
      "        </title>\n",
      "    </head>\n",
      "    <body>\n",
      "        <h3>Chris</h3>\n",
      "\n"
     ]
    }
   ],
   "source": [
    "print(header)"
   ]
  },
  {
   "cell_type": "code",
   "execution_count": 45,
   "metadata": {},
   "outputs": [],
   "source": [
    "footer = f\"\"\" \n",
    "        <p>Average: {average}</p>\n",
    "    </body>\n",
    "</html>\n",
    "\"\"\""
   ]
  },
  {
   "cell_type": "code",
   "execution_count": 46,
   "metadata": {},
   "outputs": [
    {
     "name": "stdout",
     "output_type": "stream",
     "text": [
      " \n",
      "        <p>Average: 1:28.89</p>\n",
      "    </body>\n",
      "</html>\n",
      "\n"
     ]
    }
   ],
   "source": [
    "print(footer)"
   ]
  },
  {
   "cell_type": "code",
   "execution_count": 47,
   "metadata": {},
   "outputs": [],
   "source": [
    "body = \"\"\" \n",
    "        <svg height=\"30\" width=\"400\">\n",
    "            <rect height=\"30\" width=\"300\" style=\"fill:rgb(0,0,255);\" />\n",
    "        </svg>Label 1<br />\n",
    "\"\"\""
   ]
  },
  {
   "cell_type": "code",
   "execution_count": 48,
   "metadata": {},
   "outputs": [
    {
     "name": "stdout",
     "output_type": "stream",
     "text": [
      " \n",
      "        <svg height=\"30\" width=\"400\">\n",
      "            <rect height=\"30\" width=\"300\" style=\"fill:rgb(0,0,255);\" />\n",
      "        </svg>Label 1<br />\n",
      "\n"
     ]
    }
   ],
   "source": [
    "print(body)"
   ]
  },
  {
   "cell_type": "code",
   "execution_count": 49,
   "metadata": {},
   "outputs": [
    {
     "data": {
      "text/plain": [
       "(['1:28.86', '1:29.90', '1:28.12', '1:28.67'], [8886, 8990, 8812, 8867])"
      ]
     },
     "execution_count": 49,
     "metadata": {},
     "output_type": "execute_result"
    }
   ],
   "source": [
    "times, values"
   ]
  },
  {
   "cell_type": "code",
   "execution_count": 50,
   "metadata": {},
   "outputs": [],
   "source": [
    "converts = []\n",
    "for n in values:\n",
    "    converts.append(hfpy_utils.convert2range(n, 0, max(values)+50, 0, 400))"
   ]
  },
  {
   "cell_type": "code",
   "execution_count": 51,
   "metadata": {},
   "outputs": [
    {
     "data": {
      "text/plain": [
       "(['1:28.86', '1:29.90', '1:28.12', '1:28.67'],\n",
       " [8886, 8990, 8812, 8867],\n",
       " [393.19, 397.79, 389.91, 392.35])"
      ]
     },
     "execution_count": 51,
     "metadata": {},
     "output_type": "execute_result"
    }
   ],
   "source": [
    "times, values, converts"
   ]
  },
  {
   "cell_type": "code",
   "execution_count": 52,
   "metadata": {},
   "outputs": [
    {
     "data": {
      "text/plain": [
       "[('1:28.86', 393.19),\n",
       " ('1:29.90', 397.79),\n",
       " ('1:28.12', 389.91),\n",
       " ('1:28.67', 392.35)]"
      ]
     },
     "execution_count": 52,
     "metadata": {},
     "output_type": "execute_result"
    }
   ],
   "source": [
    "list(zip(times, converts))"
   ]
  },
  {
   "cell_type": "code",
   "execution_count": 53,
   "metadata": {},
   "outputs": [],
   "source": [
    "times.reverse()\n",
    "converts.reverse()\n",
    "\n",
    "body = \"\"\n",
    "for t, c in zip(times, converts):\n",
    "    svg = f\"\"\" \n",
    "                <svg height=\"30\" width=\"400\">\n",
    "                        <rect height=\"30\" width=\"{c}\" style=\"fill:rgb(0,0,255);\" />\n",
    "                </svg>{t}<br />\n",
    "            \"\"\"\n",
    "    body = body + svg\n"
   ]
  },
  {
   "cell_type": "code",
   "execution_count": 54,
   "metadata": {},
   "outputs": [
    {
     "name": "stdout",
     "output_type": "stream",
     "text": [
      " \n",
      "                <svg height=\"30\" width=\"400\">\n",
      "                        <rect height=\"30\" width=\"392.35\" style=\"fill:rgb(0,0,255);\" />\n",
      "                </svg>1:28.67<br />\n",
      "             \n",
      "                <svg height=\"30\" width=\"400\">\n",
      "                        <rect height=\"30\" width=\"389.91\" style=\"fill:rgb(0,0,255);\" />\n",
      "                </svg>1:28.12<br />\n",
      "             \n",
      "                <svg height=\"30\" width=\"400\">\n",
      "                        <rect height=\"30\" width=\"397.79\" style=\"fill:rgb(0,0,255);\" />\n",
      "                </svg>1:29.90<br />\n",
      "             \n",
      "                <svg height=\"30\" width=\"400\">\n",
      "                        <rect height=\"30\" width=\"393.19\" style=\"fill:rgb(0,0,255);\" />\n",
      "                </svg>1:28.86<br />\n",
      "            \n"
     ]
    }
   ],
   "source": [
    "print(body)"
   ]
  },
  {
   "cell_type": "code",
   "execution_count": 55,
   "metadata": {},
   "outputs": [],
   "source": [
    "html = header + body + footer"
   ]
  },
  {
   "cell_type": "code",
   "execution_count": 56,
   "metadata": {},
   "outputs": [
    {
     "name": "stdout",
     "output_type": "stream",
     "text": [
      "\n",
      "<!DOCTYPE html>\n",
      "<html>\n",
      "    <head>\n",
      "        <title>\n",
      "            Chris\n",
      "        </title>\n",
      "    </head>\n",
      "    <body>\n",
      "        <h3>Chris</h3>\n",
      " \n",
      "                <svg height=\"30\" width=\"400\">\n",
      "                        <rect height=\"30\" width=\"392.35\" style=\"fill:rgb(0,0,255);\" />\n",
      "                </svg>1:28.67<br />\n",
      "             \n",
      "                <svg height=\"30\" width=\"400\">\n",
      "                        <rect height=\"30\" width=\"389.91\" style=\"fill:rgb(0,0,255);\" />\n",
      "                </svg>1:28.12<br />\n",
      "             \n",
      "                <svg height=\"30\" width=\"400\">\n",
      "                        <rect height=\"30\" width=\"397.79\" style=\"fill:rgb(0,0,255);\" />\n",
      "                </svg>1:29.90<br />\n",
      "             \n",
      "                <svg height=\"30\" width=\"400\">\n",
      "                        <rect height=\"30\" width=\"393.19\" style=\"fill:rgb(0,0,255);\" />\n",
      "                </svg>1:28.86<br />\n",
      "             \n",
      "        <p>Average: 1:28.89</p>\n",
      "    </body>\n",
      "</html>\n",
      "\n"
     ]
    }
   ],
   "source": [
    "print(html)"
   ]
  },
  {
   "cell_type": "code",
   "execution_count": 57,
   "metadata": {},
   "outputs": [],
   "source": [
    "with open(\"Calvin.html\", \"w\") as df:\n",
    "    print(html, file=df) "
   ]
  }
 ],
 "metadata": {
  "kernelspec": {
   "display_name": "Python 3",
   "language": "python",
   "name": "python3"
  },
  "language_info": {
   "codemirror_mode": {
    "name": "ipython",
    "version": 3
   },
   "file_extension": ".py",
   "mimetype": "text/x-python",
   "name": "python",
   "nbconvert_exporter": "python",
   "pygments_lexer": "ipython3",
   "version": "3.11.6"
  },
  "orig_nbformat": 4
 },
 "nbformat": 4,
 "nbformat_minor": 2
}
