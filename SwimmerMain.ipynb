{
 "cells": [
  {
   "cell_type": "code",
   "execution_count": 5,
   "metadata": {},
   "outputs": [
    {
     "name": "stdout",
     "output_type": "stream",
     "text": [
      "The entered path is not a valid directory.\n"
     ]
    }
   ],
   "source": [
    "import os\n",
    "\n",
    "# Prompt the user for a directory path\n",
    "directory_path = input(\"Please enter a directory path: \")\n",
    "\n",
    "# Check if the entered path exists\n",
    "if os.path.exists(directory_path) and os.path.isdir(directory_path):\n",
    "    # List files in the directory\n",
    "    files = os.listdir(directory_path)\n",
    "    \n",
    "    # Print the list of files\n",
    "    print(f\"Files in the directory {directory_path}:\")\n",
    "    for file in files:\n",
    "        print(file)\n",
    "else:\n",
    "    print(\"The entered path is not a valid directory.\")\n"
   ]
  },
  {
   "cell_type": "code",
   "execution_count": null,
   "metadata": {},
   "outputs": [],
   "source": []
  }
 ],
 "metadata": {
  "kernelspec": {
   "display_name": "Python 3",
   "language": "python",
   "name": "python3"
  },
  "language_info": {
   "codemirror_mode": {
    "name": "ipython",
    "version": 3
   },
   "file_extension": ".py",
   "mimetype": "text/x-python",
   "name": "python",
   "nbconvert_exporter": "python",
   "pygments_lexer": "ipython3",
   "version": "3.10.8"
  }
 },
 "nbformat": 4,
 "nbformat_minor": 2
}
