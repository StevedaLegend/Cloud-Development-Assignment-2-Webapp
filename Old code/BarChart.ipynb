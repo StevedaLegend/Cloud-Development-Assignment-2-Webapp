{
 "cells": [
  {
   "cell_type": "code",
   "execution_count": 198,
   "metadata": {},
   "outputs": [
    {
     "data": {
      "text/plain": [
       "('Mike',\n",
       " '15',\n",
       " '100m',\n",
       " 'Back',\n",
       " ['1:19.23', '1:13.70', '1:13.96', '1:15.94'],\n",
       " [7923, 7370, 7396, 7594],\n",
       " '1:15.71')"
      ]
     },
     "execution_count": 198,
     "metadata": {},
     "output_type": "execute_result"
    }
   ],
   "source": [
    "import swim_utils\n",
    "\n",
    "filename = \"Katie-9-100m-Back.txt\"\n",
    "data = swim_utils.get_swimmers_data(filename)\n",
    "data"
   ]
  },
  {
   "cell_type": "code",
   "execution_count": 199,
   "metadata": {},
   "outputs": [],
   "source": [
    "import hfpy_utils"
   ]
  },
  {
   "cell_type": "code",
   "execution_count": 200,
   "metadata": {},
   "outputs": [
    {
     "name": "stdout",
     "output_type": "stream",
     "text": [
      "Help on function convert2range in module hfpy_utils:\n",
      "\n",
      "convert2range(v, f_min, f_max, t_min, t_max)\n",
      "    Given a value (v) in the range f_min-f_max, convert the value\n",
      "    to its equivalent value in the range t_min-t_max.\n",
      "    \n",
      "    Based on the technique described here:\n",
      "        http://james-ramsden.com/map-a-value-from-one-number-scale-to-another-formula-and-c-code/\n",
      "\n"
     ]
    }
   ],
   "source": [
    "help(hfpy_utils.convert2range)"
   ]
  },
  {
   "cell_type": "code",
   "execution_count": 201,
   "metadata": {},
   "outputs": [
    {
     "data": {
      "text/plain": [
       "354.4"
      ]
     },
     "execution_count": 201,
     "metadata": {},
     "output_type": "execute_result"
    }
   ],
   "source": [
    "hfpy_utils.convert2range(8107, 0, 9150, 0, 400)"
   ]
  },
  {
   "cell_type": "code",
   "execution_count": 202,
   "metadata": {},
   "outputs": [
    {
     "name": "stdout",
     "output_type": "stream",
     "text": [
      "7923 => 346.36\n",
      "7370 => 322.19\n",
      "7396 => 323.32\n",
      "7594 => 331.98\n"
     ]
    }
   ],
   "source": [
    "for n in data[-2]:\n",
    "    print(n, \"=>\", hfpy_utils.convert2range(n, 0, 9150, 0, 400))"
   ]
  },
  {
   "cell_type": "code",
   "execution_count": 203,
   "metadata": {},
   "outputs": [],
   "source": [
    "header = \"\"\"\n",
    "<!DOCTYPE html>\n",
    "<html>\n",
    "    <head>\n",
    "        <title>\n",
    "            A simple bar chart\n",
    "        </title>\n",
    "    </head>\n",
    "    <body>\n",
    "        <h3>A simple bar chart</h3>\n",
    "\"\"\""
   ]
  },
  {
   "cell_type": "code",
   "execution_count": 204,
   "metadata": {},
   "outputs": [
    {
     "data": {
      "text/plain": [
       "'\\n<!DOCTYPE html>\\n<html>\\n    <head>\\n        <title>\\n            A simple bar chart\\n        </title>\\n    </head>\\n    <body>\\n        <h3>A simple bar chart</h3>\\n'"
      ]
     },
     "execution_count": 204,
     "metadata": {},
     "output_type": "execute_result"
    }
   ],
   "source": [
    "header"
   ]
  },
  {
   "cell_type": "code",
   "execution_count": 205,
   "metadata": {},
   "outputs": [
    {
     "name": "stdout",
     "output_type": "stream",
     "text": [
      "\n",
      "<!DOCTYPE html>\n",
      "<html>\n",
      "    <head>\n",
      "        <title>\n",
      "            A simple bar chart\n",
      "        </title>\n",
      "    </head>\n",
      "    <body>\n",
      "        <h3>A simple bar chart</h3>\n",
      "\n"
     ]
    }
   ],
   "source": [
    "print(header)"
   ]
  },
  {
   "cell_type": "code",
   "execution_count": 206,
   "metadata": {},
   "outputs": [
    {
     "data": {
      "text/plain": [
       "('Mike',\n",
       " '15',\n",
       " '100m',\n",
       " 'Back',\n",
       " ['1:19.23', '1:13.70', '1:13.96', '1:15.94'],\n",
       " [7923, 7370, 7396, 7594],\n",
       " '1:15.71')"
      ]
     },
     "execution_count": 206,
     "metadata": {},
     "output_type": "execute_result"
    }
   ],
   "source": [
    "data"
   ]
  },
  {
   "cell_type": "code",
   "execution_count": 207,
   "metadata": {},
   "outputs": [
    {
     "name": "stdout",
     "output_type": "stream",
     "text": [
      "('Mike', '15', '100m', 'Back', ['1:19.23', '1:13.70', '1:13.96', '1:15.94'], [7923, 7370, 7396, 7594], '1:15.71')\n"
     ]
    }
   ],
   "source": [
    "name, age, distance, stroke, times, values, average = data \n",
    "print(data)"
   ]
  },
  {
   "cell_type": "code",
   "execution_count": 208,
   "metadata": {},
   "outputs": [],
   "source": [
    "title = f\"{data}\"\n",
    "#(Under {age}) {distance} - {stroke}\""
   ]
  },
  {
   "cell_type": "code",
   "execution_count": 209,
   "metadata": {},
   "outputs": [
    {
     "data": {
      "text/plain": [
       "\"('Mike', '15', '100m', 'Back', ['1:19.23', '1:13.70', '1:13.96', '1:15.94'], [7923, 7370, 7396, 7594], '1:15.71')\""
      ]
     },
     "execution_count": 209,
     "metadata": {},
     "output_type": "execute_result"
    }
   ],
   "source": [
    "title"
   ]
  },
  {
   "cell_type": "code",
   "execution_count": 210,
   "metadata": {},
   "outputs": [],
   "source": [
    "header = f\"\"\"\n",
    "<!DOCTYPE html>\n",
    "<html>\n",
    "    <head>\n",
    "        <title>\n",
    "            {title}\n",
    "        </title>\n",
    "    </head>\n",
    "    <body>\n",
    "        <h3>{title}</h3>\n",
    "\"\"\""
   ]
  },
  {
   "cell_type": "code",
   "execution_count": 211,
   "metadata": {},
   "outputs": [
    {
     "name": "stdout",
     "output_type": "stream",
     "text": [
      "\n",
      "<!DOCTYPE html>\n",
      "<html>\n",
      "    <head>\n",
      "        <title>\n",
      "            ('Mike', '15', '100m', 'Back', ['1:19.23', '1:13.70', '1:13.96', '1:15.94'], [7923, 7370, 7396, 7594], '1:15.71')\n",
      "        </title>\n",
      "    </head>\n",
      "    <body>\n",
      "        <h3>('Mike', '15', '100m', 'Back', ['1:19.23', '1:13.70', '1:13.96', '1:15.94'], [7923, 7370, 7396, 7594], '1:15.71')</h3>\n",
      "\n"
     ]
    }
   ],
   "source": [
    "print(header)"
   ]
  },
  {
   "cell_type": "code",
   "execution_count": 212,
   "metadata": {},
   "outputs": [],
   "source": [
    "footer = f\"\"\" \n",
    "        <p>Average: {average}</p>\n",
    "    </body>\n",
    "</html>\n",
    "\"\"\""
   ]
  },
  {
   "cell_type": "code",
   "execution_count": 213,
   "metadata": {},
   "outputs": [
    {
     "name": "stdout",
     "output_type": "stream",
     "text": [
      " \n",
      "        <p>Average: 1:15.71</p>\n",
      "    </body>\n",
      "</html>\n",
      "\n"
     ]
    }
   ],
   "source": [
    "print(footer)"
   ]
  },
  {
   "cell_type": "code",
   "execution_count": 214,
   "metadata": {},
   "outputs": [],
   "source": [
    "body = \"\"\" \n",
    "        <svg height=\"30\" width=\"400\">\n",
    "            <rect height=\"30\" width=\"300\" style=\"fill:rgb(0,0,255);\" />\n",
    "        </svg>Label 1<br />\n",
    "\"\"\""
   ]
  },
  {
   "cell_type": "code",
   "execution_count": 215,
   "metadata": {},
   "outputs": [
    {
     "name": "stdout",
     "output_type": "stream",
     "text": [
      " \n",
      "        <svg height=\"30\" width=\"400\">\n",
      "            <rect height=\"30\" width=\"300\" style=\"fill:rgb(0,0,255);\" />\n",
      "        </svg>Label 1<br />\n",
      "\n"
     ]
    }
   ],
   "source": [
    "print(body)"
   ]
  },
  {
   "cell_type": "code",
   "execution_count": 216,
   "metadata": {},
   "outputs": [
    {
     "data": {
      "text/plain": [
       "(['1:19.23', '1:13.70', '1:13.96', '1:15.94'], [7923, 7370, 7396, 7594])"
      ]
     },
     "execution_count": 216,
     "metadata": {},
     "output_type": "execute_result"
    }
   ],
   "source": [
    "times, values"
   ]
  },
  {
   "cell_type": "code",
   "execution_count": 217,
   "metadata": {},
   "outputs": [],
   "source": [
    "converts = []\n",
    "for n in values:\n",
    "    converts.append(hfpy_utils.convert2range(n, 0, max(values)+50, 0, 400))"
   ]
  },
  {
   "cell_type": "code",
   "execution_count": 218,
   "metadata": {},
   "outputs": [
    {
     "data": {
      "text/plain": [
       "(['1:19.23', '1:13.70', '1:13.96', '1:15.94'],\n",
       " [7923, 7370, 7396, 7594],\n",
       " [397.49, 369.75, 371.05, 380.99])"
      ]
     },
     "execution_count": 218,
     "metadata": {},
     "output_type": "execute_result"
    }
   ],
   "source": [
    "times, values, converts"
   ]
  },
  {
   "cell_type": "code",
   "execution_count": 219,
   "metadata": {},
   "outputs": [
    {
     "data": {
      "text/plain": [
       "[('1:19.23', 397.49),\n",
       " ('1:13.70', 369.75),\n",
       " ('1:13.96', 371.05),\n",
       " ('1:15.94', 380.99)]"
      ]
     },
     "execution_count": 219,
     "metadata": {},
     "output_type": "execute_result"
    }
   ],
   "source": [
    "list(zip(times, converts))"
   ]
  },
  {
   "cell_type": "code",
   "execution_count": 220,
   "metadata": {},
   "outputs": [],
   "source": [
    "times.reverse()\n",
    "converts.reverse()\n",
    "\n",
    "body = \"\"\n",
    "for t, c in zip(times, converts):\n",
    "    svg = f\"\"\" \n",
    "                <svg height=\"30\" width=\"400\">\n",
    "                        <rect height=\"30\" width=\"{c}\" style=\"fill:rgb(0,0,255);\" />\n",
    "                </svg>{t}<br />\n",
    "            \"\"\"\n",
    "    body = body + svg\n"
   ]
  },
  {
   "cell_type": "code",
   "execution_count": 221,
   "metadata": {},
   "outputs": [
    {
     "name": "stdout",
     "output_type": "stream",
     "text": [
      " \n",
      "                <svg height=\"30\" width=\"400\">\n",
      "                        <rect height=\"30\" width=\"380.99\" style=\"fill:rgb(0,0,255);\" />\n",
      "                </svg>1:15.94<br />\n",
      "             \n",
      "                <svg height=\"30\" width=\"400\">\n",
      "                        <rect height=\"30\" width=\"371.05\" style=\"fill:rgb(0,0,255);\" />\n",
      "                </svg>1:13.96<br />\n",
      "             \n",
      "                <svg height=\"30\" width=\"400\">\n",
      "                        <rect height=\"30\" width=\"369.75\" style=\"fill:rgb(0,0,255);\" />\n",
      "                </svg>1:13.70<br />\n",
      "             \n",
      "                <svg height=\"30\" width=\"400\">\n",
      "                        <rect height=\"30\" width=\"397.49\" style=\"fill:rgb(0,0,255);\" />\n",
      "                </svg>1:19.23<br />\n",
      "            \n"
     ]
    }
   ],
   "source": [
    "print(body)"
   ]
  },
  {
   "cell_type": "code",
   "execution_count": 222,
   "metadata": {},
   "outputs": [],
   "source": [
    "html = header + body + footer"
   ]
  },
  {
   "cell_type": "code",
   "execution_count": 223,
   "metadata": {},
   "outputs": [
    {
     "name": "stdout",
     "output_type": "stream",
     "text": [
      "\n",
      "<!DOCTYPE html>\n",
      "<html>\n",
      "    <head>\n",
      "        <title>\n",
      "            ('Mike', '15', '100m', 'Back', ['1:19.23', '1:13.70', '1:13.96', '1:15.94'], [7923, 7370, 7396, 7594], '1:15.71')\n",
      "        </title>\n",
      "    </head>\n",
      "    <body>\n",
      "        <h3>('Mike', '15', '100m', 'Back', ['1:19.23', '1:13.70', '1:13.96', '1:15.94'], [7923, 7370, 7396, 7594], '1:15.71')</h3>\n",
      " \n",
      "                <svg height=\"30\" width=\"400\">\n",
      "                        <rect height=\"30\" width=\"380.99\" style=\"fill:rgb(0,0,255);\" />\n",
      "                </svg>1:15.94<br />\n",
      "             \n",
      "                <svg height=\"30\" width=\"400\">\n",
      "                        <rect height=\"30\" width=\"371.05\" style=\"fill:rgb(0,0,255);\" />\n",
      "                </svg>1:13.96<br />\n",
      "             \n",
      "                <svg height=\"30\" width=\"400\">\n",
      "                        <rect height=\"30\" width=\"369.75\" style=\"fill:rgb(0,0,255);\" />\n",
      "                </svg>1:13.70<br />\n",
      "             \n",
      "                <svg height=\"30\" width=\"400\">\n",
      "                        <rect height=\"30\" width=\"397.49\" style=\"fill:rgb(0,0,255);\" />\n",
      "                </svg>1:19.23<br />\n",
      "             \n",
      "        <p>Average: 1:15.71</p>\n",
      "    </body>\n",
      "</html>\n",
      "\n"
     ]
    }
   ],
   "source": [
    "print(html)"
   ]
  },
  {
   "cell_type": "code",
   "execution_count": 224,
   "metadata": {},
   "outputs": [],
   "source": [
    "with open(\"Calvin.html\", \"w\") as df:\n",
    "    print(html, file=df) "
   ]
  }
 ],
 "metadata": {
  "kernelspec": {
   "display_name": "Python 3",
   "language": "python",
   "name": "python3"
  },
  "language_info": {
   "codemirror_mode": {
    "name": "ipython",
    "version": 3
   },
   "file_extension": ".py",
   "mimetype": "text/x-python",
   "name": "python",
   "nbconvert_exporter": "python",
   "pygments_lexer": "ipython3",
   "version": "3.10.8"
  },
  "orig_nbformat": 4
 },
 "nbformat": 4,
 "nbformat_minor": 2
}
